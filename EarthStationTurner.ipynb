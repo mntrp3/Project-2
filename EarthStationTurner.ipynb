{
 "cells": [
  {
   "cell_type": "code",
   "execution_count": 2,
   "metadata": {
    "collapsed": true
   },
   "outputs": [],
   "source": [
    "import json\n",
    "import numpy\n",
    "import requests"
   ]
  },
  {
   "cell_type": "code",
   "execution_count": 3,
   "metadata": {
    "collapsed": true
   },
   "outputs": [],
   "source": [
    "data = json.load(open(\"AllEarthStations.json\"))"
   ]
  },
  {
   "cell_type": "code",
   "execution_count": 4,
   "metadata": {},
   "outputs": [
    {
     "data": {
      "text/plain": [
       "[{'abbrev': 'KDCA', 'name': 'Washington/Reagan National Airport, DC'},\n",
       " {'abbrev': 'KDAA', 'name': 'Fort Belvoir'},\n",
       " {'abbrev': 'KCGS', 'name': 'College Park Airport'},\n",
       " {'abbrev': 'KIAD', 'name': 'Washington/Dulles International Airport, DC'},\n",
       " {'abbrev': 'KADW', 'name': 'Camp Springs / Andrews Air Force Base'},\n",
       " {'abbrev': 'KGAI', 'name': 'Gaithersburg - Montgomery County Airport'},\n",
       " {'abbrev': 'KHEF',\n",
       "  'name': 'Manassas, Manassas Regional Airport/Harry P. Davis Field'},\n",
       " {'abbrev': 'KJYO', 'name': 'Leesburg / Godfrey'},\n",
       " {'abbrev': 'KNYG', 'name': 'Quantico Marine Corps Airfield - Turner Field'},\n",
       " {'abbrev': 'KBWI',\n",
       "  'name': 'Baltimore, Baltimore-Washington International Airport'},\n",
       " {'abbrev': 'KHWY', 'name': 'Warrenton-Fauquier Airport'},\n",
       " {'abbrev': 'KRMN', 'name': 'Stafford, Stafford Regional Airport'},\n",
       " {'abbrev': 'KNAK', 'name': 'Annapolis, United States Naval Academy'},\n",
       " {'abbrev': 'KFDK', 'name': 'Frederick Municipal Airport'},\n",
       " {'abbrev': 'KDMH', 'name': 'Baltimore, Inner Harbor'},\n",
       " {'abbrev': 'KCJR', 'name': 'Culpeper, Culpeper County Airport'},\n",
       " {'abbrev': 'KEZF', 'name': 'Fredericksburg, Shannon Airport'},\n",
       " {'abbrev': 'KDMW', 'name': 'Carroll County Regional Jack B Poage Field'},\n",
       " {'abbrev': 'KMTN', 'name': 'Baltimore / Martin'},\n",
       " {'abbrev': 'K2W6', 'name': 'St Marys County Airport'},\n",
       " {'abbrev': 'KOKV', 'name': 'Winchester Regional'},\n",
       " {'abbrev': 'KMRB', 'name': 'Eastern WV Regional Airport/Shepherd Field'},\n",
       " {'abbrev': 'KNHK', 'name': 'Patuxent River, Naval Air Station'},\n",
       " {'abbrev': 'KFRR', 'name': 'Front Royal-warren County Airport'},\n",
       " {'abbrev': 'KHGR', 'name': 'Hagerstown, Washington County Regional Airport'},\n",
       " {'abbrev': 'KOMH', 'name': 'Orange, Orange County Airport'},\n",
       " {'abbrev': 'KNUI',\n",
       "  'name': 'St. Inigoes, Webster Field, Naval Electronic Systems Engineering Activity'},\n",
       " {'abbrev': 'K7W4', 'name': 'Lake Anna Airport'},\n",
       " {'abbrev': 'KTHV', 'name': 'York, York Airport'},\n",
       " {'abbrev': 'KGVE', 'name': 'Gordonsville Municipal Airport'},\n",
       " {'abbrev': 'KLKU', 'name': 'Louisa, Louisa County Airport/Freeman Field'},\n",
       " {'abbrev': 'KOFP', 'name': 'Ashland, Hanover County Municipal Airport'},\n",
       " {'abbrev': 'K8W2', 'name': 'New Market Airport'},\n",
       " {'abbrev': 'KCHO', 'name': 'Charlottesville-Albemarle Airport'},\n",
       " {'abbrev': 'KRIC', 'name': 'Richmond, Richmond International Airport'},\n",
       " {'abbrev': 'KLNS', 'name': 'Lancaster, Lancaster Airport'},\n",
       " {'abbrev': 'KCBE', 'name': 'Cumberland, Greater Cumberland Regional Airport'},\n",
       " {'abbrev': 'KSHD', 'name': 'Staunton / Shenandoah'},\n",
       " {'abbrev': 'KW99', 'name': 'Petersburg, Grant County Airport'},\n",
       " {'abbrev': 'KW13', 'name': 'Eagles Nest Airport'},\n",
       " {'abbrev': 'KMFV', 'name': 'Melfa / Accomack Airport'},\n",
       " {'abbrev': 'KFVX', 'name': 'Farmville'},\n",
       " {'abbrev': 'KEKN',\n",
       "  'name': 'Elkins, Elkins-Randolph County-Jennings Randolph Field'},\n",
       " {'abbrev': 'KLYH', 'name': 'Lynchburg, Lynchburg Regional Airport'},\n",
       " {'abbrev': 'KMGW', 'name': 'Morgantown Municipal-Hart Field'},\n",
       " {'abbrev': 'KHSP', 'name': 'Hot Springs / Ingalls'},\n",
       " {'abbrev': 'KROA', 'name': 'Roanoke, Roanoke Regional Airport'}]"
      ]
     },
     "execution_count": 4,
     "metadata": {},
     "output_type": "execute_result"
    }
   ],
   "source": [
    "data"
   ]
  },
  {
   "cell_type": "code",
   "execution_count": 7,
   "metadata": {},
   "outputs": [],
   "source": [
    "weatherEndpoint = \"https://api.weather.gov/\"\n",
    "ESEndpoint = weatherEndpoint+\"stations/\"\n",
    "LocEndpoint = weatherEndpoint+\"points/\""
   ]
  },
  {
   "cell_type": "code",
   "execution_count": 9,
   "metadata": {},
   "outputs": [
    {
     "data": {
      "text/plain": [
       "{'@context': ['https://raw.githubusercontent.com/geojson/geojson-ld/master/contexts/geojson-base.jsonld',\n",
       "  {'@vocab': 'https://api.weather.gov/ontology#',\n",
       "   'bearing': {'@type': 's:QuantitativeValue'},\n",
       "   'city': 's:addressLocality',\n",
       "   'county': {'@type': '@id'},\n",
       "   'distance': {'@id': 's:Distance', '@type': 's:QuantitativeValue'},\n",
       "   'forecastGridData': {'@type': '@id'},\n",
       "   'forecastOffice': {'@type': '@id'},\n",
       "   'geo': 'http://www.opengis.net/ont/geosparql#',\n",
       "   'geometry': {'@id': 's:GeoCoordinates', '@type': 'geo:wktLiteral'},\n",
       "   'publicZone': {'@type': '@id'},\n",
       "   's': 'https://schema.org/',\n",
       "   'state': 's:addressRegion',\n",
       "   'unit': 'http://codes.wmo.int/common/unit/',\n",
       "   'unitCode': {'@id': 's:unitCode', '@type': '@id'},\n",
       "   'value': {'@id': 's:value'},\n",
       "   'wx': 'https://api.weather.gov/ontology#'}],\n",
       " 'geometry': {'coordinates': [-77.03417, 38.84833], 'type': 'Point'},\n",
       " 'id': 'https://api.weather.gov/stations/KDCA',\n",
       " 'properties': {'@id': 'https://api.weather.gov/stations/KDCA',\n",
       "  '@type': 'wx:ObservationStation',\n",
       "  'county': 'https://api.weather.gov/zones/county/VAC013',\n",
       "  'elevation': {'unitCode': 'unit:m', 'value': 3.9624},\n",
       "  'fireWeatherZone': 'https://api.weather.gov/zones/fire/VAZ054',\n",
       "  'forecast': 'https://api.weather.gov/zones/forecast/VAZ054',\n",
       "  'name': 'Washington/Reagan National Airport, DC',\n",
       "  'stationIdentifier': 'KDCA',\n",
       "  'timeZone': 'America/New_York'},\n",
       " 'type': 'Feature'}"
      ]
     },
     "execution_count": 9,
     "metadata": {},
     "output_type": "execute_result"
    }
   ],
   "source": [
    " requests.get(ESEndpoint+data[0]['abbrev']).json()"
   ]
  },
  {
   "cell_type": "code",
   "execution_count": 11,
   "metadata": {},
   "outputs": [],
   "source": [
    "allESBlob = []\n",
    "for ES in data:\n",
    "    respoJson = requests.get(ESEndpoint+ES['abbrev']).json()\n",
    "    uniqueLocation = respoJson['geometry']['coordinates']\n",
    "    secondResponse = requests.get(LocEndpoint+str(uniqueLocation[1])+\",\"+str(uniqueLocation[0])).json()['properties']\n",
    "    \n",
    "    ES['LocTag'] = secondResponse['cwa']+\"/\"+str(secondResponse[\"gridX\"])+\",\"+str(secondResponse[\"gridY\"])"
   ]
  },
  {
   "cell_type": "code",
   "execution_count": 13,
   "metadata": {},
   "outputs": [],
   "source": [
    "with open('AllStationsWithLocTag.json', 'w') as outfile:\n",
    "    json.dump(data, outfile)"
   ]
  },
  {
   "cell_type": "code",
   "execution_count": null,
   "metadata": {
    "collapsed": true
   },
   "outputs": [],
   "source": []
  }
 ],
 "metadata": {
  "kernelspec": {
   "display_name": "Python [conda env:PythonData]",
   "language": "python",
   "name": "conda-env-PythonData-py"
  },
  "language_info": {
   "codemirror_mode": {
    "name": "ipython",
    "version": 3
   },
   "file_extension": ".py",
   "mimetype": "text/x-python",
   "name": "python",
   "nbconvert_exporter": "python",
   "pygments_lexer": "ipython3",
   "version": "3.6.3"
  }
 },
 "nbformat": 4,
 "nbformat_minor": 2
}
